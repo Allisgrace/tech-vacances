{
 "cells": [
  {
   "cell_type": "code",
   "execution_count": 1,
   "id": "f1c1aa33",
   "metadata": {},
   "outputs": [],
   "source": [
    "import numpy as np"
   ]
  },
  {
   "cell_type": "code",
   "execution_count": 6,
   "id": "e5bbfb1a",
   "metadata": {},
   "outputs": [
    {
     "name": "stdout",
     "output_type": "stream",
     "text": [
      "[[3 5]\n",
      " [7 9]]\n",
      "[[10 22]\n",
      " [13 29]]\n"
     ]
    }
   ],
   "source": [
    "matrice_a = np.array([[2,3],[4,5]])\n",
    "matrice_b = np.array([[1,2],[3,4]])\n",
    "print(matrice_a + matrice_b)\n",
    "print(np.dot(matrice_a.T , matrice_b.T))"
   ]
  }
 ],
 "metadata": {
  "kernelspec": {
   "display_name": "Python 3",
   "language": "python",
   "name": "python3"
  },
  "language_info": {
   "codemirror_mode": {
    "name": "ipython",
    "version": 3
   },
   "file_extension": ".py",
   "mimetype": "text/x-python",
   "name": "python",
   "nbconvert_exporter": "python",
   "pygments_lexer": "ipython3",
   "version": "3.13.5"
  }
 },
 "nbformat": 4,
 "nbformat_minor": 5
}
